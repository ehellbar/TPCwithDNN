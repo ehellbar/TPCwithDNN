{
 "cells": [
  {
   "cell_type": "markdown",
   "metadata": {},
   "source": [
    "# Model performance evaluation\n"
   ]
  },
  {
   "cell_type": "markdown",
   "metadata": {},
   "source": [
    "## Define basic variables first:\n",
    "* Directory variables\n",
    "* Modules to be loaded\n",
    "* Default cut selections\n",
    "\n",
    "The working directory will be the TPCwithDNN repository in order to load necessary modules. Therefore, the paths in which the figures should be stored need to be absolute paths."
   ]
  },
  {
   "cell_type": "code",
   "execution_count": 1,
   "metadata": {},
   "outputs": [
    {
     "name": "stdout",
     "output_type": "stream",
     "text": [
      "Welcome to JupyROOT 6.20/04\n",
      "Working directory: /lustre/alice/users/hellbaer/TPCwithDNN/tpcwithdnn/\n",
      "Model directory: /lustre/alice/users/hellbaer/TPCwithDNN/tpcwithdnn/model_repository/v0/\n",
      "Input directory: /lustre/alice/users/mkleiner/NOTESData/JIRA/ATO-439/nobias/SC-33-33-180/\n",
      "Storage directory: /lustre/alice/users/hellbaer/NOTESData/JIRA/ATO-439/SC-33-33-180/plots/\n"
     ]
    }
   ],
   "source": [
    "## directory variables\n",
    "source_dir = \"/lustre/alice/users/hellbaer/TPCwithDNN/tpcwithdnn/\"\n",
    "base_dir = \"/lustre/alice/users/hellbaer/NOTESData/JIRA/ATO-439/SC-33-33-180/\"\n",
    "plot_dir = base_dir + \"plots/\"\n",
    "model_dir = source_dir + \"model_repository/v0/\"\n",
    "input_dir = \"/lustre/alice/users/mkleiner/NOTESData/JIRA/ATO-439/nobias/SC-33-33-180/\"\n",
    "import os\n",
    "os.chdir(source_dir)\n",
    "\n",
    "## import modules\n",
    "import numpy as np\n",
    "import pandas as pd\n",
    "from RootInteractive.InteractiveDrawing.bokeh.bokehDrawSA import *\n",
    "from RootInteractive.Tools.aliTreePlayer import *\n",
    "from bokeh.io import output_notebook\n",
    "output_notebook()\n",
    "\n",
    "## print outs\n",
    "print(\"Working directory: %s\" % source_dir)\n",
    "print(\"Model directory: %s\" % model_dir)\n",
    "print(\"Input directory: %s\" % input_dir)\n",
    "print(\"Storage directory: %s\" % plot_dir)\n",
    "\n",
    "\n",
    "## global plot parameters\n",
    "tooltips = [(\"r\", \"(@r)\"), (\"phi\", \"(@phi)\"), (\"sec\", \"(@sector)\"), (\"z\", \"(@z)\"), (\"nEvTrain\", \"(@nEvTrain)\")]\n",
    "figureLayout = [\n",
    "    [0, {'plot_height': 150}],\n",
    "    {'sizing_mode':'scale_width'}\n",
    "    ]\n",
    "widgetLayout = [[0,1,2], {'sizing_mode':'scale_width'}]"
   ]
  },
  {
   "cell_type": "markdown",
   "metadata": {},
   "source": [
    "<br>\n",
    "<br>\n",
    "<br>\n",
    "\n",
    "## Load trees"
   ]
  },
  {
   "cell_type": "code",
   "execution_count": null,
   "metadata": {},
   "outputs": [],
   "source": [
    "tree, treeList, fileList = LoadTrees(\"cat \" + base_dir + \"performance.list\", \"pdfmaps\", \"xxx\", \"\", 0)"
   ]
  },
  {
   "cell_type": "markdown",
   "metadata": {},
   "source": [
    "<br>\n",
    "<br>\n",
    "<br>\n",
    "\n",
    "## Distortion fluctuations: Prediction - true value"
   ]
  },
  {
   "cell_type": "markdown",
   "metadata": {},
   "source": [
    "### phi, r\n",
    "Default cuts:\n",
    "* z < 5 cm"
   ]
  },
  {
   "cell_type": "code",
   "execution_count": null,
   "metadata": {},
   "outputs": [],
   "source": [
    "## default cut selections\n",
    "selection = \"flucDistR_entries>50 && zBinCenter<5\"\n",
    "\n",
    "## load variables tree\n",
    "dfVariables = tree2Panda(tree, [\".*Center\", \".*fsector\", \".*meanMap\"], selection, exclude = [\".*pdfmaps.*\"], columnMask = [[\"BinCenter\",\"\"]])\n",
    "display(dfVariables.columns)\n",
    "\n",
    "## load performance quantities\n",
    "dfDiff = tree2Panda(tree, [\".*flucDistRDiff_means\", \".*flucDistRDiff_rmsd\"], selection, exclude = [\"pdfmaps.*\", \"fluc.*\", \".*Center\", \".*fsector\", \".*meanMap\", \".*OK\"], columnMask = [[\"pdfmaps_flucDistRDiff_means\",\"diffMean\"], [\"pdfmaps_flucDistRDiff_rmsd\",\"diffRMS\"]])\n",
    "display(dfDiff.columns)\n",
    "\n",
    "df = pd.concat([dfDiff, dfVariables], axis = 1)"
   ]
  }
 ],
 "metadata": {
  "kernelspec": {
   "display_name": "Python 3",
   "language": "python",
   "name": "python3"
  },
  "language_info": {
   "codemirror_mode": {
    "name": "ipython",
    "version": 3
   },
   "file_extension": ".py",
   "mimetype": "text/x-python",
   "name": "python",
   "nbconvert_exporter": "python",
   "pygments_lexer": "ipython3",
   "version": "3.6.9"
  }
 },
 "nbformat": 4,
 "nbformat_minor": 2
}
